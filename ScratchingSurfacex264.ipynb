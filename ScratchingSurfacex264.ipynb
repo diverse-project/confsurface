{
 "cells": [
  {
   "cell_type": "code",
   "execution_count": 1,
   "metadata": {},
   "outputs": [
    {
     "data": {
      "text/html": [
       "<div>\n",
       "<style scoped>\n",
       "    .dataframe tbody tr th:only-of-type {\n",
       "        vertical-align: middle;\n",
       "    }\n",
       "\n",
       "    .dataframe tbody tr th {\n",
       "        vertical-align: top;\n",
       "    }\n",
       "\n",
       "    .dataframe thead th {\n",
       "        text-align: right;\n",
       "    }\n",
       "</style>\n",
       "<table border=\"1\" class=\"dataframe\">\n",
       "  <thead>\n",
       "    <tr style=\"text-align: right;\">\n",
       "      <th></th>\n",
       "      <th>--disable-avs</th>\n",
       "      <th>--disable-swscale</th>\n",
       "      <th>--disable-lavf</th>\n",
       "      <th>--disable-ffms</th>\n",
       "      <th>--disable-gpac</th>\n",
       "      <th>--disable-lsmash</th>\n",
       "      <th>--enable-lto</th>\n",
       "      <th>--enable-debug</th>\n",
       "      <th>--enable-gprof</th>\n",
       "      <th>--enable-strip</th>\n",
       "      <th>...</th>\n",
       "      <th>--bit-depth=10</th>\n",
       "      <th>--bit-depth=all</th>\n",
       "      <th>--chroma-format=400</th>\n",
       "      <th>--chroma-format=420</th>\n",
       "      <th>--chroma-format=422</th>\n",
       "      <th>--chroma-format=444</th>\n",
       "      <th>--chroma-format=all</th>\n",
       "      <th>binary-size</th>\n",
       "      <th>unit</th>\n",
       "      <th>nr-of-gadgets</th>\n",
       "    </tr>\n",
       "  </thead>\n",
       "  <tbody>\n",
       "    <tr>\n",
       "      <th>0</th>\n",
       "      <td>False</td>\n",
       "      <td>False</td>\n",
       "      <td>False</td>\n",
       "      <td>False</td>\n",
       "      <td>True</td>\n",
       "      <td>False</td>\n",
       "      <td>True</td>\n",
       "      <td>False</td>\n",
       "      <td>True</td>\n",
       "      <td>False</td>\n",
       "      <td>...</td>\n",
       "      <td>True</td>\n",
       "      <td>False</td>\n",
       "      <td>False</td>\n",
       "      <td>True</td>\n",
       "      <td>False</td>\n",
       "      <td>False</td>\n",
       "      <td>False</td>\n",
       "      <td>3096112</td>\n",
       "      <td>bytes</td>\n",
       "      <td>106878</td>\n",
       "    </tr>\n",
       "    <tr>\n",
       "      <th>1</th>\n",
       "      <td>True</td>\n",
       "      <td>True</td>\n",
       "      <td>True</td>\n",
       "      <td>True</td>\n",
       "      <td>True</td>\n",
       "      <td>False</td>\n",
       "      <td>False</td>\n",
       "      <td>False</td>\n",
       "      <td>False</td>\n",
       "      <td>True</td>\n",
       "      <td>...</td>\n",
       "      <td>False</td>\n",
       "      <td>False</td>\n",
       "      <td>True</td>\n",
       "      <td>False</td>\n",
       "      <td>False</td>\n",
       "      <td>False</td>\n",
       "      <td>False</td>\n",
       "      <td>1704056</td>\n",
       "      <td>bytes</td>\n",
       "      <td>62065</td>\n",
       "    </tr>\n",
       "    <tr>\n",
       "      <th>2</th>\n",
       "      <td>False</td>\n",
       "      <td>True</td>\n",
       "      <td>True</td>\n",
       "      <td>True</td>\n",
       "      <td>False</td>\n",
       "      <td>False</td>\n",
       "      <td>False</td>\n",
       "      <td>True</td>\n",
       "      <td>True</td>\n",
       "      <td>False</td>\n",
       "      <td>...</td>\n",
       "      <td>False</td>\n",
       "      <td>False</td>\n",
       "      <td>False</td>\n",
       "      <td>False</td>\n",
       "      <td>True</td>\n",
       "      <td>False</td>\n",
       "      <td>False</td>\n",
       "      <td>3096112</td>\n",
       "      <td>bytes</td>\n",
       "      <td>106878</td>\n",
       "    </tr>\n",
       "    <tr>\n",
       "      <th>3</th>\n",
       "      <td>True</td>\n",
       "      <td>False</td>\n",
       "      <td>True</td>\n",
       "      <td>False</td>\n",
       "      <td>False</td>\n",
       "      <td>False</td>\n",
       "      <td>False</td>\n",
       "      <td>False</td>\n",
       "      <td>False</td>\n",
       "      <td>False</td>\n",
       "      <td>...</td>\n",
       "      <td>True</td>\n",
       "      <td>False</td>\n",
       "      <td>False</td>\n",
       "      <td>True</td>\n",
       "      <td>False</td>\n",
       "      <td>False</td>\n",
       "      <td>False</td>\n",
       "      <td>1718552</td>\n",
       "      <td>bytes</td>\n",
       "      <td>58537</td>\n",
       "    </tr>\n",
       "    <tr>\n",
       "      <th>4</th>\n",
       "      <td>True</td>\n",
       "      <td>False</td>\n",
       "      <td>False</td>\n",
       "      <td>False</td>\n",
       "      <td>False</td>\n",
       "      <td>True</td>\n",
       "      <td>False</td>\n",
       "      <td>True</td>\n",
       "      <td>True</td>\n",
       "      <td>False</td>\n",
       "      <td>...</td>\n",
       "      <td>False</td>\n",
       "      <td>False</td>\n",
       "      <td>False</td>\n",
       "      <td>False</td>\n",
       "      <td>False</td>\n",
       "      <td>False</td>\n",
       "      <td>False</td>\n",
       "      <td>3096112</td>\n",
       "      <td>bytes</td>\n",
       "      <td>106878</td>\n",
       "    </tr>\n",
       "  </tbody>\n",
       "</table>\n",
       "<p>5 rows × 34 columns</p>\n",
       "</div>"
      ],
      "text/plain": [
       "   --disable-avs  --disable-swscale  --disable-lavf  --disable-ffms  \\\n",
       "0          False              False           False           False   \n",
       "1           True               True            True            True   \n",
       "2          False               True            True            True   \n",
       "3           True              False            True           False   \n",
       "4           True              False           False           False   \n",
       "\n",
       "   --disable-gpac  --disable-lsmash  --enable-lto  --enable-debug  \\\n",
       "0            True             False          True           False   \n",
       "1            True             False         False           False   \n",
       "2           False             False         False            True   \n",
       "3           False             False         False           False   \n",
       "4           False              True         False            True   \n",
       "\n",
       "   --enable-gprof  --enable-strip  ...  --bit-depth=10  --bit-depth=all  \\\n",
       "0            True           False  ...            True            False   \n",
       "1           False            True  ...           False            False   \n",
       "2            True           False  ...           False            False   \n",
       "3           False           False  ...            True            False   \n",
       "4            True           False  ...           False            False   \n",
       "\n",
       "   --chroma-format=400  --chroma-format=420  --chroma-format=422  \\\n",
       "0                False                 True                False   \n",
       "1                 True                False                False   \n",
       "2                False                False                 True   \n",
       "3                False                 True                False   \n",
       "4                False                False                False   \n",
       "\n",
       "   --chroma-format=444  --chroma-format=all  binary-size   unit  nr-of-gadgets  \n",
       "0                False                False      3096112  bytes         106878  \n",
       "1                False                False      1704056  bytes          62065  \n",
       "2                False                False      3096112  bytes         106878  \n",
       "3                False                False      1718552  bytes          58537  \n",
       "4                False                False      3096112  bytes         106878  \n",
       "\n",
       "[5 rows x 34 columns]"
      ]
     },
     "execution_count": 1,
     "metadata": {},
     "output_type": "execute_result"
    }
   ],
   "source": [
    "import pandas as pd\n",
    "\n",
    "# TODO: training/test could be generalized (eg we could train on random)\n",
    "\n",
    "# training\n",
    "df = pd.read_csv('splc21-data - 100-configurations.csv')\n",
    "df.head()\n"
   ]
  },
  {
   "cell_type": "code",
   "execution_count": 2,
   "metadata": {},
   "outputs": [
    {
     "data": {
      "text/plain": [
       "Index(['--disable-avs', '--disable-swscale', '--disable-lavf',\n",
       "       '--disable-ffms', '--disable-gpac', '--disable-lsmash', '--enable-lto',\n",
       "       '--enable-debug', '--enable-gprof', '--enable-strip', '--enable-pic',\n",
       "       '--disable-asm', '--enable-shared', '--enable-static',\n",
       "       '--enable-bashcompletion', '--disable-cli', '--disable-bashcompletion',\n",
       "       '--disable-opencl', '--disable-gpl', '--disable-thread',\n",
       "       '--disable-win32thread', '--disable-interlaced', '--system-libx264',\n",
       "       '--bit-depth=8', '--bit-depth=10', '--bit-depth=all',\n",
       "       '--chroma-format=400', '--chroma-format=420', '--chroma-format=422',\n",
       "       '--chroma-format=444', '--chroma-format=all', 'binary-size', 'unit',\n",
       "       'nr-of-gadgets'],\n",
       "      dtype='object')"
      ]
     },
     "execution_count": 2,
     "metadata": {},
     "output_type": "execute_result"
    }
   ],
   "source": [
    "df.columns"
   ]
  },
  {
   "cell_type": "code",
   "execution_count": 3,
   "metadata": {},
   "outputs": [
    {
     "data": {
      "text/html": [
       "<div>\n",
       "<style scoped>\n",
       "    .dataframe tbody tr th:only-of-type {\n",
       "        vertical-align: middle;\n",
       "    }\n",
       "\n",
       "    .dataframe tbody tr th {\n",
       "        vertical-align: top;\n",
       "    }\n",
       "\n",
       "    .dataframe thead th {\n",
       "        text-align: right;\n",
       "    }\n",
       "</style>\n",
       "<table border=\"1\" class=\"dataframe\">\n",
       "  <thead>\n",
       "    <tr style=\"text-align: right;\">\n",
       "      <th></th>\n",
       "      <th>--disable-avs</th>\n",
       "      <th>--disable-swscale</th>\n",
       "      <th>--disable-lavf</th>\n",
       "      <th>--disable-ffms</th>\n",
       "      <th>--disable-gpac</th>\n",
       "      <th>--disable-lsmash</th>\n",
       "      <th>--enable-lto</th>\n",
       "      <th>--enable-debug</th>\n",
       "      <th>--enable-gprof</th>\n",
       "      <th>--enable-strip</th>\n",
       "      <th>...</th>\n",
       "      <th>--bit-depth=10</th>\n",
       "      <th>--bit-depth=all</th>\n",
       "      <th>--chroma-format=400</th>\n",
       "      <th>--chroma-format=420</th>\n",
       "      <th>--chroma-format=422</th>\n",
       "      <th>--chroma-format=444</th>\n",
       "      <th>--chroma-format=all</th>\n",
       "      <th>binary-size</th>\n",
       "      <th>unit</th>\n",
       "      <th>nr-of-gadgets</th>\n",
       "    </tr>\n",
       "  </thead>\n",
       "  <tbody>\n",
       "    <tr>\n",
       "      <th>0</th>\n",
       "      <td>True</td>\n",
       "      <td>True</td>\n",
       "      <td>True</td>\n",
       "      <td>True</td>\n",
       "      <td>True</td>\n",
       "      <td>True</td>\n",
       "      <td>True</td>\n",
       "      <td>False</td>\n",
       "      <td>False</td>\n",
       "      <td>False</td>\n",
       "      <td>...</td>\n",
       "      <td>True</td>\n",
       "      <td>False</td>\n",
       "      <td>False</td>\n",
       "      <td>False</td>\n",
       "      <td>False</td>\n",
       "      <td>False</td>\n",
       "      <td>False</td>\n",
       "      <td>3096112</td>\n",
       "      <td>bytes</td>\n",
       "      <td>106878</td>\n",
       "    </tr>\n",
       "    <tr>\n",
       "      <th>1</th>\n",
       "      <td>True</td>\n",
       "      <td>False</td>\n",
       "      <td>False</td>\n",
       "      <td>False</td>\n",
       "      <td>False</td>\n",
       "      <td>True</td>\n",
       "      <td>False</td>\n",
       "      <td>False</td>\n",
       "      <td>True</td>\n",
       "      <td>True</td>\n",
       "      <td>...</td>\n",
       "      <td>False</td>\n",
       "      <td>True</td>\n",
       "      <td>False</td>\n",
       "      <td>False</td>\n",
       "      <td>False</td>\n",
       "      <td>False</td>\n",
       "      <td>False</td>\n",
       "      <td>2194952</td>\n",
       "      <td>bytes</td>\n",
       "      <td>76255</td>\n",
       "    </tr>\n",
       "    <tr>\n",
       "      <th>2</th>\n",
       "      <td>False</td>\n",
       "      <td>True</td>\n",
       "      <td>True</td>\n",
       "      <td>True</td>\n",
       "      <td>False</td>\n",
       "      <td>True</td>\n",
       "      <td>False</td>\n",
       "      <td>False</td>\n",
       "      <td>True</td>\n",
       "      <td>True</td>\n",
       "      <td>...</td>\n",
       "      <td>False</td>\n",
       "      <td>False</td>\n",
       "      <td>False</td>\n",
       "      <td>False</td>\n",
       "      <td>False</td>\n",
       "      <td>False</td>\n",
       "      <td>False</td>\n",
       "      <td>980728</td>\n",
       "      <td>bytes</td>\n",
       "      <td>31911</td>\n",
       "    </tr>\n",
       "    <tr>\n",
       "      <th>3</th>\n",
       "      <td>True</td>\n",
       "      <td>True</td>\n",
       "      <td>True</td>\n",
       "      <td>True</td>\n",
       "      <td>False</td>\n",
       "      <td>True</td>\n",
       "      <td>False</td>\n",
       "      <td>True</td>\n",
       "      <td>False</td>\n",
       "      <td>False</td>\n",
       "      <td>...</td>\n",
       "      <td>False</td>\n",
       "      <td>True</td>\n",
       "      <td>False</td>\n",
       "      <td>False</td>\n",
       "      <td>False</td>\n",
       "      <td>False</td>\n",
       "      <td>False</td>\n",
       "      <td>7491752</td>\n",
       "      <td>bytes</td>\n",
       "      <td>45860</td>\n",
       "    </tr>\n",
       "    <tr>\n",
       "      <th>4</th>\n",
       "      <td>False</td>\n",
       "      <td>True</td>\n",
       "      <td>True</td>\n",
       "      <td>True</td>\n",
       "      <td>False</td>\n",
       "      <td>False</td>\n",
       "      <td>False</td>\n",
       "      <td>True</td>\n",
       "      <td>True</td>\n",
       "      <td>True</td>\n",
       "      <td>...</td>\n",
       "      <td>False</td>\n",
       "      <td>True</td>\n",
       "      <td>False</td>\n",
       "      <td>False</td>\n",
       "      <td>False</td>\n",
       "      <td>False</td>\n",
       "      <td>False</td>\n",
       "      <td>3096112</td>\n",
       "      <td>bytes</td>\n",
       "      <td>106878</td>\n",
       "    </tr>\n",
       "  </tbody>\n",
       "</table>\n",
       "<p>5 rows × 34 columns</p>\n",
       "</div>"
      ],
      "text/plain": [
       "   --disable-avs  --disable-swscale  --disable-lavf  --disable-ffms  \\\n",
       "0           True               True            True            True   \n",
       "1           True              False           False           False   \n",
       "2          False               True            True            True   \n",
       "3           True               True            True            True   \n",
       "4          False               True            True            True   \n",
       "\n",
       "   --disable-gpac  --disable-lsmash  --enable-lto  --enable-debug  \\\n",
       "0            True              True          True           False   \n",
       "1           False              True         False           False   \n",
       "2           False              True         False           False   \n",
       "3           False              True         False            True   \n",
       "4           False             False         False            True   \n",
       "\n",
       "   --enable-gprof  --enable-strip  ...  --bit-depth=10  --bit-depth=all  \\\n",
       "0           False           False  ...            True            False   \n",
       "1            True            True  ...           False             True   \n",
       "2            True            True  ...           False            False   \n",
       "3           False           False  ...           False             True   \n",
       "4            True            True  ...           False             True   \n",
       "\n",
       "   --chroma-format=400  --chroma-format=420  --chroma-format=422  \\\n",
       "0                False                False                False   \n",
       "1                False                False                False   \n",
       "2                False                False                False   \n",
       "3                False                False                False   \n",
       "4                False                False                False   \n",
       "\n",
       "   --chroma-format=444  --chroma-format=all  binary-size   unit  nr-of-gadgets  \n",
       "0                False                False      3096112  bytes         106878  \n",
       "1                False                False      2194952  bytes          76255  \n",
       "2                False                False       980728  bytes          31911  \n",
       "3                False                False      7491752  bytes          45860  \n",
       "4                False                False      3096112  bytes         106878  \n",
       "\n",
       "[5 rows x 34 columns]"
      ]
     },
     "execution_count": 3,
     "metadata": {},
     "output_type": "execute_result"
    }
   ],
   "source": [
    "# test\n",
    "df_test = pd.read_csv('splc21-data - 32-configurations.csv')\n",
    "df_test.head()"
   ]
  },
  {
   "cell_type": "code",
   "execution_count": 4,
   "metadata": {},
   "outputs": [
    {
     "data": {
      "text/plain": [
       "<matplotlib.axes._subplots.AxesSubplot at 0x7f9aa45f1c50>"
      ]
     },
     "execution_count": 4,
     "metadata": {},
     "output_type": "execute_result"
    },
    {
     "data": {
      "image/png": "[encoded data removed]",
      "text/plain": [
       "<Figure size 432x288 with 1 Axes>"
      ]
     },
     "metadata": {
      "needs_background": "light"
     },
     "output_type": "display_data"
    }
   ],
   "source": [
    "df['binary-size'].plot(kind='box')"
   ]
  },
  {
   "cell_type": "code",
   "execution_count": 5,
   "metadata": {},
   "outputs": [
    {
     "data": {
      "text/plain": [
       "<matplotlib.axes._subplots.AxesSubplot at 0x7f9aa0e93b10>"
      ]
     },
     "execution_count": 5,
     "metadata": {},
     "output_type": "execute_result"
    },
    {
     "data": {
      "image/png": "[encoded data removed]",
      "text/plain": [
       "<Figure size 432x288 with 1 Axes>"
      ]
     },
     "metadata": {
      "needs_background": "light"
     },
     "output_type": "display_data"
    }
   ],
   "source": [
    "df['nr-of-gadgets'].plot(kind='box')"
   ]
  },
  {
   "cell_type": "code",
   "execution_count": 6,
   "metadata": {},
   "outputs": [],
   "source": [
    "from sklearn import linear_model\n",
    "fts = ['--disable-avs', '--disable-swscale', '--disable-lavf',\n",
    "       '--disable-ffms', '--disable-gpac', '--disable-lsmash', '--enable-lto',\n",
    "       '--enable-debug', '--enable-gprof', '--enable-strip', '--enable-pic',\n",
    "       '--disable-asm', '--enable-shared', '--enable-static',\n",
    "       '--enable-bashcompletion', '--disable-cli', '--disable-bashcompletion',\n",
    "       '--disable-opencl', '--disable-gpl', '--disable-thread',\n",
    "       '--disable-win32thread', '--disable-interlaced', '--system-libx264',\n",
    "       '--bit-depth=8', '--bit-depth=10', '--bit-depth=all',\n",
    "       '--chroma-format=400', '--chroma-format=420', '--chroma-format=422',\n",
    "       '--chroma-format=444', '--chroma-format=all']\n"
   ]
  },
  {
   "cell_type": "code",
   "execution_count": 7,
   "metadata": {},
   "outputs": [
    {
     "name": "stdout",
     "output_type": "stream",
     "text": [
      "[ 1.20178727e+05 -3.98770381e+05  4.08949374e+03  6.27374245e+04\n",
      " -4.25874467e+03 -6.42187143e+05  9.09077740e+03  1.25957684e+06\n",
      " -4.68799516e+05 -1.38343269e+06 -3.43009922e+05 -7.94362789e+03\n",
      "  1.89174898e-10 -2.32830644e-10 -5.26233553e+05  2.32830644e-10\n",
      " -4.47712912e+05 -4.72159442e+05  2.03690083e+05 -3.36127999e+05\n",
      " -6.86201097e+05 -8.59355134e+05  4.92526992e+05 -5.78100431e+05\n",
      " -1.02167917e+06  3.20714559e+05  4.14986269e+05  6.25377276e+05\n",
      "  1.57689239e+06  7.49601383e+05  7.80687776e+05]\n",
      "                          Coefficients\n",
      "--enable-strip           -1.383433e+06\n",
      "--bit-depth=10           -1.021679e+06\n",
      "--disable-interlaced     -8.593551e+05\n",
      "--disable-win32thread    -6.862011e+05\n",
      "--disable-lsmash         -6.421871e+05\n",
      "--bit-depth=8            -5.781004e+05\n",
      "--enable-bashcompletion  -5.262336e+05\n",
      "--disable-opencl         -4.721594e+05\n",
      "--enable-gprof           -4.687995e+05\n",
      "--disable-bashcompletion -4.477129e+05\n",
      "--disable-swscale        -3.987704e+05\n",
      "--enable-pic             -3.430099e+05\n",
      "--disable-thread         -3.361280e+05\n",
      "--disable-asm            -7.943628e+03\n",
      "--disable-gpac           -4.258745e+03\n",
      "--enable-static          -2.328306e-10\n",
      "--enable-shared           1.891749e-10\n",
      "--disable-cli             2.328306e-10\n",
      "--disable-lavf            4.089494e+03\n",
      "--enable-lto              9.090777e+03\n",
      "--disable-ffms            6.273742e+04\n",
      "--disable-avs             1.201787e+05\n",
      "--disable-gpl             2.036901e+05\n",
      "--bit-depth=all           3.207146e+05\n",
      "--chroma-format=400       4.149863e+05\n",
      "--system-libx264          4.925270e+05\n",
      "--chroma-format=420       6.253773e+05\n",
      "--chroma-format=444       7.496014e+05\n",
      "--chroma-format=all       7.806878e+05\n",
      "--enable-debug            1.259577e+06\n",
      "--chroma-format=422       1.576892e+06\n"
     ]
    },
    {
     "data": {
      "image/png": "[encoded data removed]",
      "text/plain": [
       "<Figure size 648x504 with 1 Axes>"
      ]
     },
     "metadata": {
      "needs_background": "light"
     },
     "output_type": "display_data"
    },
    {
     "name": "stdout",
     "output_type": "stream",
     "text": [
      "Mean squared error: 3274043538436.72\n",
      "Coefficient of determination: -0.02\n",
      "MAPE 0.600975522330873\n"
     ]
    },
    {
     "data": {
      "image/png": "[encoded data removed]",
      "text/plain": [
       "<Figure size 432x288 with 1 Axes>"
      ]
     },
     "metadata": {},
     "output_type": "display_data"
    },
    {
     "name": "stdout",
     "output_type": "stream",
     "text": [
      "Mean squared error: 218673314728.00\n",
      "Coefficient of determination: 0.93\n",
      "MAPE 0.14163806276694557\n"
     ]
    },
    {
     "data": {
      "image/png": "[encoded data removed]",
      "text/plain": [
       "<Figure size 432x288 with 1 Axes>"
      ]
     },
     "metadata": {},
     "output_type": "display_data"
    },
    {
     "name": "stdout",
     "output_type": "stream",
     "text": [
      "Feature: 0, --disable-avs, Score: 0.00000\n",
      "Feature: 1, --disable-swscale, Score: 0.00001\n",
      "Feature: 2, --disable-lavf, Score: 0.00004\n",
      "Feature: 3, --disable-ffms, Score: 0.00005\n",
      "Feature: 4, --disable-gpac, Score: 0.00434\n",
      "Feature: 5, --disable-lsmash, Score: 0.00655\n",
      "Feature: 6, --enable-lto, Score: 0.00001\n",
      "Feature: 7, --enable-debug, Score: 0.29847\n",
      "Feature: 8, --enable-gprof, Score: 0.00130\n",
      "Feature: 9, --enable-strip, Score: 0.17999\n",
      "Feature: 10, --enable-pic, Score: 0.00008\n",
      "Feature: 11, --disable-asm, Score: 0.00077\n",
      "Feature: 12, --enable-shared, Score: 0.00000\n",
      "Feature: 13, --enable-static, Score: 0.00000\n",
      "Feature: 14, --enable-bashcompletion, Score: 0.02057\n",
      "Feature: 15, --disable-cli, Score: 0.00000\n",
      "Feature: 16, --disable-bashcompletion, Score: 0.00021\n",
      "Feature: 17, --disable-opencl, Score: 0.00000\n",
      "Feature: 18, --disable-gpl, Score: 0.00123\n",
      "Feature: 19, --disable-thread, Score: 0.01284\n",
      "Feature: 20, --disable-win32thread, Score: 0.00000\n",
      "Feature: 21, --disable-interlaced, Score: 0.00001\n",
      "Feature: 22, --system-libx264, Score: 0.36652\n",
      "Feature: 23, --bit-depth=8, Score: 0.00199\n",
      "Feature: 24, --bit-depth=10, Score: 0.00303\n",
      "Feature: 25, --bit-depth=all, Score: 0.10088\n",
      "Feature: 26, --chroma-format=400, Score: 0.00086\n",
      "Feature: 27, --chroma-format=420, Score: 0.00000\n",
      "Feature: 28, --chroma-format=422, Score: 0.00000\n",
      "Feature: 29, --chroma-format=444, Score: 0.00009\n",
      "Feature: 30, --chroma-format=all, Score: 0.00015\n"
     ]
    },
    {
     "data": {
      "image/png": "[encoded data removed]",
      "text/plain": [
       "<Figure size 432x288 with 1 Axes>"
      ]
     },
     "metadata": {
      "needs_background": "light"
     },
     "output_type": "display_data"
    },
    {
     "name": "stdout",
     "output_type": "stream",
     "text": [
      "Mean squared error: 395941776499.34\n",
      "Coefficient of determination: 0.88\n",
      "MAPE 0.13031938297061002\n"
     ]
    },
    {
     "data": {
      "image/png": "[encoded data removed]",
      "text/plain": [
       "<Figure size 432x288 with 1 Axes>"
      ]
     },
     "metadata": {},
     "output_type": "display_data"
    },
    {
     "name": "stdout",
     "output_type": "stream",
     "text": [
      "Feature: 0, --disable-avs, Score: 0.00528\n",
      "Feature: 1, --disable-swscale, Score: 0.00227\n",
      "Feature: 2, --disable-lavf, Score: 0.00061\n",
      "Feature: 3, --disable-ffms, Score: 0.00320\n",
      "Feature: 4, --disable-gpac, Score: 0.00235\n",
      "Feature: 5, --disable-lsmash, Score: 0.00870\n",
      "Feature: 6, --enable-lto, Score: 0.00071\n",
      "Feature: 7, --enable-debug, Score: 0.22375\n",
      "Feature: 8, --enable-gprof, Score: 0.00299\n",
      "Feature: 9, --enable-strip, Score: 0.17997\n",
      "Feature: 10, --enable-pic, Score: 0.03148\n",
      "Feature: 11, --disable-asm, Score: 0.00858\n",
      "Feature: 12, --enable-shared, Score: 0.00000\n",
      "Feature: 13, --enable-static, Score: 0.00000\n",
      "Feature: 14, --enable-bashcompletion, Score: 0.00160\n",
      "Feature: 15, --disable-cli, Score: 0.00000\n",
      "Feature: 16, --disable-bashcompletion, Score: 0.00283\n",
      "Feature: 17, --disable-opencl, Score: 0.00654\n",
      "Feature: 18, --disable-gpl, Score: 0.00909\n",
      "Feature: 19, --disable-thread, Score: 0.01638\n",
      "Feature: 20, --disable-win32thread, Score: 0.01875\n",
      "Feature: 21, --disable-interlaced, Score: 0.01853\n",
      "Feature: 22, --system-libx264, Score: 0.27789\n",
      "Feature: 23, --bit-depth=8, Score: 0.00879\n",
      "Feature: 24, --bit-depth=10, Score: 0.01219\n",
      "Feature: 25, --bit-depth=all, Score: 0.09899\n",
      "Feature: 26, --chroma-format=400, Score: 0.00781\n",
      "Feature: 27, --chroma-format=420, Score: 0.00191\n",
      "Feature: 28, --chroma-format=422, Score: 0.04367\n",
      "Feature: 29, --chroma-format=444, Score: 0.00452\n",
      "Feature: 30, --chroma-format=all, Score: 0.00061\n"
     ]
    },
    {
     "data": {
      "image/png": "[encoded data removed]",
      "text/plain": [
       "<Figure size 432x288 with 1 Axes>"
      ]
     },
     "metadata": {
      "needs_background": "light"
     },
     "output_type": "display_data"
    }
   ],
   "source": [
    "import numpy as np \n",
    "import matplotlib.pyplot as plt\n",
    "from sklearn.metrics import mean_squared_error, r2_score\n",
    "import matplotlib.pyplot as plt\n",
    "import numpy as np\n",
    "\n",
    "from sklearn import tree\n",
    "from sklearn.ensemble import RandomForestRegressor\n",
    "import graphviz \n",
    "\n",
    "def mean_absolute_percentage_error(y_pred, y_true):\n",
    "    return np.average(np.abs(y_pred - y_true) / np.abs(y_true))\n",
    "\n",
    "def eval_model(target, y_pred): \n",
    "    y_test = df_test[target]\n",
    "    print('Mean squared error: %.2f'\n",
    "          % mean_squared_error(y_test, y_pred))\n",
    "    # The coefficient of determination: 1 is perfect prediction\n",
    "    print('Coefficient of determination: %.2f'\n",
    "          % r2_score(y_test, y_pred))\n",
    "    \n",
    "    print(\"MAPE\", mean_absolute_percentage_error(y_pred, y_test))\n",
    "\n",
    "    # Plot outputs\n",
    "    plt.scatter(df_test[fts].index, y_test,  color='black')\n",
    "    plt.plot(df_test[fts].index, y_pred, color='blue', linewidth=3)\n",
    "\n",
    "    plt.xticks(())\n",
    "    plt.yticks(())\n",
    "\n",
    "    plt.show()\n",
    "\n",
    "def mk_linear_regression(target):\n",
    "    regr = linear_model.LinearRegression()\n",
    "    regr.fit(df[fts], df[target])\n",
    "    print(regr.coef_)\n",
    "    coeffs = pd.DataFrame(regr.coef_, fts, columns=['Coefficients'])\n",
    "    print(coeffs.sort_values(by=\"Coefficients\"))\n",
    "    coeffs.plot(kind='barh', figsize=(9, 7))\n",
    "    plt.axvline(x=0, color='.5')\n",
    "    plt.subplots_adjust(left=.3)\n",
    "    plt.show()\n",
    "    \n",
    "    y_pred = regr.predict(df_test[fts])\n",
    "    eval_model(target, y_pred)\n",
    "    \n",
    "\n",
    "\n",
    "\n",
    "def mk_treepredictor(target, decision_tree): \n",
    "    if decision_tree:\n",
    "        clf = tree.DecisionTreeRegressor()\n",
    "    else:\n",
    "        clf = RandomForestRegressor() \n",
    "    clf = clf.fit(df[fts], df[target])\n",
    "\n",
    "    if decision_tree:\n",
    "        dot_data = tree.export_graphviz(clf, out_file=None, feature_names=fts,  \n",
    "                      filled=True, rounded=True,  \n",
    "                      special_characters=True)\n",
    "        graph = graphviz.Source(dot_data) \n",
    "        graph.render(\"x264\")\n",
    "                   \n",
    "    \n",
    "    y_pred = clf.predict(df_test[fts])\n",
    "    eval_model(target, y_pred)\n",
    "    \n",
    "    importance = clf.feature_importances_\n",
    "    for i, v in enumerate(importance):\n",
    "        print('Feature: %d, %s, Score: %.5f' % (i, df.columns[i], v))\n",
    "    plt.bar([x for x in range(len(importance))], importance)\n",
    "    plt.show()\n",
    "    \n",
    "mk_linear_regression('binary-size')\n",
    "mk_treepredictor('binary-size', True)\n",
    "mk_treepredictor('binary-size', False)"
   ]
  },
  {
   "cell_type": "code",
   "execution_count": 8,
   "metadata": {},
   "outputs": [
    {
     "name": "stdout",
     "output_type": "stream",
     "text": [
      "[ 8.07330132e+02  5.52439488e+03 -2.30931222e+03 -2.68104008e+03\n",
      "  4.19415116e+02 -7.85841411e+03  4.08625003e+03 -8.65953404e+02\n",
      " -2.15497754e+01 -3.20080219e+03  7.18129339e+02 -8.41360693e+03\n",
      "  1.09139364e-11 -3.63797881e-12  2.47247093e+03  3.63797881e-12\n",
      "  2.09149891e+03 -1.60935660e+03 -1.92828996e+03  3.21960571e+03\n",
      " -2.20198106e+03 -1.49243827e+03  5.12840056e+04 -1.59817639e+04\n",
      " -1.76351951e+04 -3.84445074e+03 -3.85168183e+03 -3.65349474e+03\n",
      " -3.96837909e+03 -5.43255459e+03 -2.76101904e+02]\n",
      "                          Coefficients\n",
      "--bit-depth=10           -1.763520e+04\n",
      "--bit-depth=8            -1.598176e+04\n",
      "--disable-asm            -8.413607e+03\n",
      "--disable-lsmash         -7.858414e+03\n",
      "--chroma-format=444      -5.432555e+03\n",
      "--chroma-format=422      -3.968379e+03\n",
      "--chroma-format=400      -3.851682e+03\n",
      "--bit-depth=all          -3.844451e+03\n",
      "--chroma-format=420      -3.653495e+03\n",
      "--enable-strip           -3.200802e+03\n",
      "--disable-ffms           -2.681040e+03\n",
      "--disable-lavf           -2.309312e+03\n",
      "--disable-win32thread    -2.201981e+03\n",
      "--disable-gpl            -1.928290e+03\n",
      "--disable-opencl         -1.609357e+03\n",
      "--disable-interlaced     -1.492438e+03\n",
      "--enable-debug           -8.659534e+02\n",
      "--chroma-format=all      -2.761019e+02\n",
      "--enable-gprof           -2.154978e+01\n",
      "--enable-static          -3.637979e-12\n",
      "--disable-cli             3.637979e-12\n",
      "--enable-shared           1.091394e-11\n",
      "--disable-gpac            4.194151e+02\n",
      "--enable-pic              7.181293e+02\n",
      "--disable-avs             8.073301e+02\n",
      "--disable-bashcompletion  2.091499e+03\n",
      "--enable-bashcompletion   2.472471e+03\n",
      "--disable-thread          3.219606e+03\n",
      "--enable-lto              4.086250e+03\n",
      "--disable-swscale         5.524395e+03\n",
      "--system-libx264          5.128401e+04\n"
     ]
    },
    {
     "data": {
      "image/png": "[encoded data removed]",
      "text/plain": [
       "<Figure size 648x504 with 1 Axes>"
      ]
     },
     "metadata": {
      "needs_background": "light"
     },
     "output_type": "display_data"
    },
    {
     "name": "stdout",
     "output_type": "stream",
     "text": [
      "Mean squared error: 97263055.15\n",
      "Coefficient of determination: 0.90\n",
      "MAPE 0.14016686239601073\n"
     ]
    },
    {
     "data": {
      "image/png": "[encoded data removed]",
      "text/plain": [
       "<Figure size 432x288 with 1 Axes>"
      ]
     },
     "metadata": {},
     "output_type": "display_data"
    },
    {
     "name": "stdout",
     "output_type": "stream",
     "text": [
      "Mean squared error: 89769853.78\n",
      "Coefficient of determination: 0.90\n",
      "MAPE 0.060858138239375685\n"
     ]
    },
    {
     "data": {
      "image/png": "[encoded data removed]",
      "text/plain": [
       "<Figure size 432x288 with 1 Axes>"
      ]
     },
     "metadata": {},
     "output_type": "display_data"
    },
    {
     "name": "stdout",
     "output_type": "stream",
     "text": [
      "Feature: 0, --disable-avs, Score: 0.00006\n",
      "Feature: 1, --disable-swscale, Score: 0.00000\n",
      "Feature: 2, --disable-lavf, Score: 0.00004\n",
      "Feature: 3, --disable-ffms, Score: 0.00118\n",
      "Feature: 4, --disable-gpac, Score: 0.00022\n",
      "Feature: 5, --disable-lsmash, Score: 0.05059\n",
      "Feature: 6, --enable-lto, Score: 0.00000\n",
      "Feature: 7, --enable-debug, Score: 0.00806\n",
      "Feature: 8, --enable-gprof, Score: 0.00000\n",
      "Feature: 9, --enable-strip, Score: 0.00042\n",
      "Feature: 10, --enable-pic, Score: 0.00103\n",
      "Feature: 11, --disable-asm, Score: 0.02652\n",
      "Feature: 12, --enable-shared, Score: 0.00000\n",
      "Feature: 13, --enable-static, Score: 0.00000\n",
      "Feature: 14, --enable-bashcompletion, Score: 0.00305\n",
      "Feature: 15, --disable-cli, Score: 0.00000\n",
      "Feature: 16, --disable-bashcompletion, Score: 0.00291\n",
      "Feature: 17, --disable-opencl, Score: 0.00022\n",
      "Feature: 18, --disable-gpl, Score: 0.00027\n",
      "Feature: 19, --disable-thread, Score: 0.00046\n",
      "Feature: 20, --disable-win32thread, Score: 0.00054\n",
      "Feature: 21, --disable-interlaced, Score: 0.00000\n",
      "Feature: 22, --system-libx264, Score: 0.79012\n",
      "Feature: 23, --bit-depth=8, Score: 0.01861\n",
      "Feature: 24, --bit-depth=10, Score: 0.01278\n",
      "Feature: 25, --bit-depth=all, Score: 0.07855\n",
      "Feature: 26, --chroma-format=400, Score: 0.00017\n",
      "Feature: 27, --chroma-format=420, Score: 0.00200\n",
      "Feature: 28, --chroma-format=422, Score: 0.00000\n",
      "Feature: 29, --chroma-format=444, Score: 0.00023\n",
      "Feature: 30, --chroma-format=all, Score: 0.00197\n"
     ]
    },
    {
     "data": {
      "image/png": "[encoded data removed]",
      "text/plain": [
       "<Figure size 432x288 with 1 Axes>"
      ]
     },
     "metadata": {
      "needs_background": "light"
     },
     "output_type": "display_data"
    },
    {
     "name": "stdout",
     "output_type": "stream",
     "text": [
      "Mean squared error: 118548241.45\n",
      "Coefficient of determination: 0.87\n",
      "MAPE 0.11101164008305837\n"
     ]
    },
    {
     "data": {
      "image/png": "[encoded data removed]",
      "text/plain": [
       "<Figure size 432x288 with 1 Axes>"
      ]
     },
     "metadata": {},
     "output_type": "display_data"
    },
    {
     "name": "stdout",
     "output_type": "stream",
     "text": [
      "Feature: 0, --disable-avs, Score: 0.00233\n",
      "Feature: 1, --disable-swscale, Score: 0.00138\n",
      "Feature: 2, --disable-lavf, Score: 0.00202\n",
      "Feature: 3, --disable-ffms, Score: 0.00213\n",
      "Feature: 4, --disable-gpac, Score: 0.00249\n",
      "Feature: 5, --disable-lsmash, Score: 0.02621\n",
      "Feature: 6, --enable-lto, Score: 0.00556\n",
      "Feature: 7, --enable-debug, Score: 0.01057\n",
      "Feature: 8, --enable-gprof, Score: 0.00394\n",
      "Feature: 9, --enable-strip, Score: 0.00188\n",
      "Feature: 10, --enable-pic, Score: 0.00189\n",
      "Feature: 11, --disable-asm, Score: 0.01953\n",
      "Feature: 12, --enable-shared, Score: 0.00000\n",
      "Feature: 13, --enable-static, Score: 0.00000\n",
      "Feature: 14, --enable-bashcompletion, Score: 0.00210\n",
      "Feature: 15, --disable-cli, Score: 0.00000\n",
      "Feature: 16, --disable-bashcompletion, Score: 0.00268\n",
      "Feature: 17, --disable-opencl, Score: 0.00241\n",
      "Feature: 18, --disable-gpl, Score: 0.00824\n",
      "Feature: 19, --disable-thread, Score: 0.00349\n",
      "Feature: 20, --disable-win32thread, Score: 0.00520\n",
      "Feature: 21, --disable-interlaced, Score: 0.00181\n",
      "Feature: 22, --system-libx264, Score: 0.78787\n",
      "Feature: 23, --bit-depth=8, Score: 0.00614\n",
      "Feature: 24, --bit-depth=10, Score: 0.01661\n",
      "Feature: 25, --bit-depth=all, Score: 0.07527\n",
      "Feature: 26, --chroma-format=400, Score: 0.00040\n",
      "Feature: 27, --chroma-format=420, Score: 0.00124\n",
      "Feature: 28, --chroma-format=422, Score: 0.00118\n",
      "Feature: 29, --chroma-format=444, Score: 0.00244\n",
      "Feature: 30, --chroma-format=all, Score: 0.00302\n"
     ]
    },
    {
     "data": {
      "image/png": "[encoded data removed]",
      "text/plain": [
       "<Figure size 432x288 with 1 Axes>"
      ]
     },
     "metadata": {
      "needs_background": "light"
     },
     "output_type": "display_data"
    }
   ],
   "source": [
    "mk_linear_regression(target='nr-of-gadgets')\n",
    "mk_treepredictor('nr-of-gadgets', True)\n",
    "mk_treepredictor('nr-of-gadgets', False)"
   ]
  },
  {
   "cell_type": "code",
   "execution_count": null,
   "metadata": {},
   "outputs": [],
   "source": []
  },
  {
   "cell_type": "code",
   "execution_count": null,
   "metadata": {},
   "outputs": [],
   "source": [
    "\n",
    "\n",
    "\n"
   ]
  },
  {
   "cell_type": "code",
   "execution_count": null,
   "metadata": {},
   "outputs": [],
   "source": []
  },
  {
   "cell_type": "code",
   "execution_count": null,
   "metadata": {},
   "outputs": [],
   "source": []
  },
  {
   "cell_type": "code",
   "execution_count": null,
   "metadata": {},
   "outputs": [],
   "source": []
  },
  {
   "cell_type": "code",
   "execution_count": null,
   "metadata": {},
   "outputs": [],
   "source": []
  },
  {
   "cell_type": "code",
   "execution_count": null,
   "metadata": {},
   "outputs": [],
   "source": []
  },
  {
   "cell_type": "code",
   "execution_count": null,
   "metadata": {},
   "outputs": [],
   "source": []
  },
  {
   "cell_type": "code",
   "execution_count": null,
   "metadata": {},
   "outputs": [],
   "source": []
  },
  {
   "cell_type": "code",
   "execution_count": null,
   "metadata": {},
   "outputs": [],
   "source": []
  },
  {
   "cell_type": "code",
   "execution_count": null,
   "metadata": {},
   "outputs": [],
   "source": []
  },
  {
   "cell_type": "code",
   "execution_count": null,
   "metadata": {},
   "outputs": [],
   "source": []
  },
  {
   "cell_type": "code",
   "execution_count": null,
   "metadata": {},
   "outputs": [],
   "source": []
  },
  {
   "cell_type": "code",
   "execution_count": null,
   "metadata": {},
   "outputs": [],
   "source": []
  }
 ],
 "metadata": {
  "kernelspec": {
   "display_name": "Python 3",
   "language": "python",
   "name": "python3"
  },
  "language_info": {
   "codemirror_mode": {
    "name": "ipython",
    "version": 3
   },
   "file_extension": ".py",
   "mimetype": "text/x-python",
   "name": "python",
   "nbconvert_exporter": "python",
   "pygments_lexer": "ipython3",
   "version": "3.7.6"
  }
 },
 "nbformat": 4,
 "nbformat_minor": 2
}
