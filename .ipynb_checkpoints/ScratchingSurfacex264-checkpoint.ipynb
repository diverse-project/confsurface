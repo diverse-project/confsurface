{
 "cells": [
  {
   "cell_type": "code",
   "execution_count": 1,
   "metadata": {},
   "outputs": [
    {
     "data": {
      "text/html": [
       "<div>\n",
       "<style scoped>\n",
       "    .dataframe tbody tr th:only-of-type {\n",
       "        vertical-align: middle;\n",
       "    }\n",
       "\n",
       "    .dataframe tbody tr th {\n",
       "        vertical-align: top;\n",
       "    }\n",
       "\n",
       "    .dataframe thead th {\n",
       "        text-align: right;\n",
       "    }\n",
       "</style>\n",
       "<table border=\"1\" class=\"dataframe\">\n",
       "  <thead>\n",
       "    <tr style=\"text-align: right;\">\n",
       "      <th></th>\n",
       "      <th>--disable-avs</th>\n",
       "      <th>--disable-swscale</th>\n",
       "      <th>--disable-lavf</th>\n",
       "      <th>--disable-ffms</th>\n",
       "      <th>--disable-gpac</th>\n",
       "      <th>--disable-lsmash</th>\n",
       "      <th>--enable-lto</th>\n",
       "      <th>--enable-debug</th>\n",
       "      <th>--enable-gprof</th>\n",
       "      <th>--enable-strip</th>\n",
       "      <th>...</th>\n",
       "      <th>--bit-depth=10</th>\n",
       "      <th>--bit-depth=all</th>\n",
       "      <th>--chroma-format=400</th>\n",
       "      <th>--chroma-format=420</th>\n",
       "      <th>--chroma-format=422</th>\n",
       "      <th>--chroma-format=444</th>\n",
       "      <th>--chroma-format=all</th>\n",
       "      <th>binary-size</th>\n",
       "      <th>unit</th>\n",
       "      <th>nr-of-gadgets</th>\n",
       "    </tr>\n",
       "  </thead>\n",
       "  <tbody>\n",
       "    <tr>\n",
       "      <th>0</th>\n",
       "      <td>False</td>\n",
       "      <td>False</td>\n",
       "      <td>False</td>\n",
       "      <td>False</td>\n",
       "      <td>True</td>\n",
       "      <td>False</td>\n",
       "      <td>True</td>\n",
       "      <td>False</td>\n",
       "      <td>True</td>\n",
       "      <td>False</td>\n",
       "      <td>...</td>\n",
       "      <td>True</td>\n",
       "      <td>False</td>\n",
       "      <td>False</td>\n",
       "      <td>True</td>\n",
       "      <td>False</td>\n",
       "      <td>False</td>\n",
       "      <td>False</td>\n",
       "      <td>3096112</td>\n",
       "      <td>bytes</td>\n",
       "      <td>106878</td>\n",
       "    </tr>\n",
       "    <tr>\n",
       "      <th>1</th>\n",
       "      <td>True</td>\n",
       "      <td>True</td>\n",
       "      <td>True</td>\n",
       "      <td>True</td>\n",
       "      <td>True</td>\n",
       "      <td>False</td>\n",
       "      <td>False</td>\n",
       "      <td>False</td>\n",
       "      <td>False</td>\n",
       "      <td>True</td>\n",
       "      <td>...</td>\n",
       "      <td>False</td>\n",
       "      <td>False</td>\n",
       "      <td>True</td>\n",
       "      <td>False</td>\n",
       "      <td>False</td>\n",
       "      <td>False</td>\n",
       "      <td>False</td>\n",
       "      <td>1704056</td>\n",
       "      <td>bytes</td>\n",
       "      <td>62065</td>\n",
       "    </tr>\n",
       "    <tr>\n",
       "      <th>2</th>\n",
       "      <td>False</td>\n",
       "      <td>True</td>\n",
       "      <td>True</td>\n",
       "      <td>True</td>\n",
       "      <td>False</td>\n",
       "      <td>False</td>\n",
       "      <td>False</td>\n",
       "      <td>True</td>\n",
       "      <td>True</td>\n",
       "      <td>False</td>\n",
       "      <td>...</td>\n",
       "      <td>False</td>\n",
       "      <td>False</td>\n",
       "      <td>False</td>\n",
       "      <td>False</td>\n",
       "      <td>True</td>\n",
       "      <td>False</td>\n",
       "      <td>False</td>\n",
       "      <td>3096112</td>\n",
       "      <td>bytes</td>\n",
       "      <td>106878</td>\n",
       "    </tr>\n",
       "    <tr>\n",
       "      <th>3</th>\n",
       "      <td>True</td>\n",
       "      <td>False</td>\n",
       "      <td>True</td>\n",
       "      <td>False</td>\n",
       "      <td>False</td>\n",
       "      <td>False</td>\n",
       "      <td>False</td>\n",
       "      <td>False</td>\n",
       "      <td>False</td>\n",
       "      <td>False</td>\n",
       "      <td>...</td>\n",
       "      <td>True</td>\n",
       "      <td>False</td>\n",
       "      <td>False</td>\n",
       "      <td>True</td>\n",
       "      <td>False</td>\n",
       "      <td>False</td>\n",
       "      <td>False</td>\n",
       "      <td>1718552</td>\n",
       "      <td>bytes</td>\n",
       "      <td>58537</td>\n",
       "    </tr>\n",
       "    <tr>\n",
       "      <th>4</th>\n",
       "      <td>True</td>\n",
       "      <td>False</td>\n",
       "      <td>False</td>\n",
       "      <td>False</td>\n",
       "      <td>False</td>\n",
       "      <td>True</td>\n",
       "      <td>False</td>\n",
       "      <td>True</td>\n",
       "      <td>True</td>\n",
       "      <td>False</td>\n",
       "      <td>...</td>\n",
       "      <td>False</td>\n",
       "      <td>False</td>\n",
       "      <td>False</td>\n",
       "      <td>False</td>\n",
       "      <td>False</td>\n",
       "      <td>False</td>\n",
       "      <td>False</td>\n",
       "      <td>3096112</td>\n",
       "      <td>bytes</td>\n",
       "      <td>106878</td>\n",
       "    </tr>\n",
       "  </tbody>\n",
       "</table>\n",
       "<p>5 rows × 34 columns</p>\n",
       "</div>"
      ],
      "text/plain": [
       "   --disable-avs  --disable-swscale  --disable-lavf  --disable-ffms  \\\n",
       "0          False              False           False           False   \n",
       "1           True               True            True            True   \n",
       "2          False               True            True            True   \n",
       "3           True              False            True           False   \n",
       "4           True              False           False           False   \n",
       "\n",
       "   --disable-gpac  --disable-lsmash  --enable-lto  --enable-debug  \\\n",
       "0            True             False          True           False   \n",
       "1            True             False         False           False   \n",
       "2           False             False         False            True   \n",
       "3           False             False         False           False   \n",
       "4           False              True         False            True   \n",
       "\n",
       "   --enable-gprof  --enable-strip  ...  --bit-depth=10  --bit-depth=all  \\\n",
       "0            True           False  ...            True            False   \n",
       "1           False            True  ...           False            False   \n",
       "2            True           False  ...           False            False   \n",
       "3           False           False  ...            True            False   \n",
       "4            True           False  ...           False            False   \n",
       "\n",
       "   --chroma-format=400  --chroma-format=420  --chroma-format=422  \\\n",
       "0                False                 True                False   \n",
       "1                 True                False                False   \n",
       "2                False                False                 True   \n",
       "3                False                 True                False   \n",
       "4                False                False                False   \n",
       "\n",
       "   --chroma-format=444  --chroma-format=all  binary-size   unit  nr-of-gadgets  \n",
       "0                False                False      3096112  bytes         106878  \n",
       "1                False                False      1704056  bytes          62065  \n",
       "2                False                False      3096112  bytes         106878  \n",
       "3                False                False      1718552  bytes          58537  \n",
       "4                False                False      3096112  bytes         106878  \n",
       "\n",
       "[5 rows x 34 columns]"
      ]
     },
     "execution_count": 1,
     "metadata": {},
     "output_type": "execute_result"
    }
   ],
   "source": [
    "import pandas as pd\n",
    "\n",
    "TARGET='nr-of-gadgets' # 'binary-size'\n",
    "\n",
    "df = pd.read_csv('splc21-data - 100-configurations.csv')\n",
    "df.head()\n",
    "\n"
   ]
  },
  {
   "cell_type": "code",
   "execution_count": 2,
   "metadata": {},
   "outputs": [
    {
     "data": {
      "text/plain": [
       "Index(['--disable-avs', '--disable-swscale', '--disable-lavf',\n",
       "       '--disable-ffms', '--disable-gpac', '--disable-lsmash', '--enable-lto',\n",
       "       '--enable-debug', '--enable-gprof', '--enable-strip', '--enable-pic',\n",
       "       '--disable-asm', '--enable-shared', '--enable-static',\n",
       "       '--enable-bashcompletion', '--disable-cli', '--disable-bashcompletion',\n",
       "       '--disable-opencl', '--disable-gpl', '--disable-thread',\n",
       "       '--disable-win32thread', '--disable-interlaced', '--system-libx264',\n",
       "       '--bit-depth=8', '--bit-depth=10', '--bit-depth=all',\n",
       "       '--chroma-format=400', '--chroma-format=420', '--chroma-format=422',\n",
       "       '--chroma-format=444', '--chroma-format=all', 'binary-size', 'unit',\n",
       "       'nr-of-gadgets'],\n",
       "      dtype='object')"
      ]
     },
     "execution_count": 2,
     "metadata": {},
     "output_type": "execute_result"
    }
   ],
   "source": [
    "df.columns"
   ]
  },
  {
   "cell_type": "code",
   "execution_count": 3,
   "metadata": {},
   "outputs": [
    {
     "data": {
      "text/html": [
       "<div>\n",
       "<style scoped>\n",
       "    .dataframe tbody tr th:only-of-type {\n",
       "        vertical-align: middle;\n",
       "    }\n",
       "\n",
       "    .dataframe tbody tr th {\n",
       "        vertical-align: top;\n",
       "    }\n",
       "\n",
       "    .dataframe thead th {\n",
       "        text-align: right;\n",
       "    }\n",
       "</style>\n",
       "<table border=\"1\" class=\"dataframe\">\n",
       "  <thead>\n",
       "    <tr style=\"text-align: right;\">\n",
       "      <th></th>\n",
       "      <th>--disable-avs</th>\n",
       "      <th>--disable-swscale</th>\n",
       "      <th>--disable-lavf</th>\n",
       "      <th>--disable-ffms</th>\n",
       "      <th>--disable-gpac</th>\n",
       "      <th>--disable-lsmash</th>\n",
       "      <th>--enable-lto</th>\n",
       "      <th>--enable-debug</th>\n",
       "      <th>--enable-gprof</th>\n",
       "      <th>--enable-strip</th>\n",
       "      <th>...</th>\n",
       "      <th>--bit-depth=10</th>\n",
       "      <th>--bit-depth=all</th>\n",
       "      <th>--chroma-format=400</th>\n",
       "      <th>--chroma-format=420</th>\n",
       "      <th>--chroma-format=422</th>\n",
       "      <th>--chroma-format=444</th>\n",
       "      <th>--chroma-format=all</th>\n",
       "      <th>binary-size</th>\n",
       "      <th>unit</th>\n",
       "      <th>nr-of-gadgets</th>\n",
       "    </tr>\n",
       "  </thead>\n",
       "  <tbody>\n",
       "    <tr>\n",
       "      <th>0</th>\n",
       "      <td>True</td>\n",
       "      <td>True</td>\n",
       "      <td>True</td>\n",
       "      <td>True</td>\n",
       "      <td>True</td>\n",
       "      <td>True</td>\n",
       "      <td>True</td>\n",
       "      <td>False</td>\n",
       "      <td>False</td>\n",
       "      <td>False</td>\n",
       "      <td>...</td>\n",
       "      <td>True</td>\n",
       "      <td>False</td>\n",
       "      <td>False</td>\n",
       "      <td>False</td>\n",
       "      <td>False</td>\n",
       "      <td>False</td>\n",
       "      <td>False</td>\n",
       "      <td>3096112</td>\n",
       "      <td>bytes</td>\n",
       "      <td>106878</td>\n",
       "    </tr>\n",
       "    <tr>\n",
       "      <th>1</th>\n",
       "      <td>True</td>\n",
       "      <td>False</td>\n",
       "      <td>False</td>\n",
       "      <td>False</td>\n",
       "      <td>False</td>\n",
       "      <td>True</td>\n",
       "      <td>False</td>\n",
       "      <td>False</td>\n",
       "      <td>True</td>\n",
       "      <td>True</td>\n",
       "      <td>...</td>\n",
       "      <td>False</td>\n",
       "      <td>True</td>\n",
       "      <td>False</td>\n",
       "      <td>False</td>\n",
       "      <td>False</td>\n",
       "      <td>False</td>\n",
       "      <td>False</td>\n",
       "      <td>2194952</td>\n",
       "      <td>bytes</td>\n",
       "      <td>76255</td>\n",
       "    </tr>\n",
       "    <tr>\n",
       "      <th>2</th>\n",
       "      <td>False</td>\n",
       "      <td>True</td>\n",
       "      <td>True</td>\n",
       "      <td>True</td>\n",
       "      <td>False</td>\n",
       "      <td>True</td>\n",
       "      <td>False</td>\n",
       "      <td>False</td>\n",
       "      <td>True</td>\n",
       "      <td>True</td>\n",
       "      <td>...</td>\n",
       "      <td>False</td>\n",
       "      <td>False</td>\n",
       "      <td>False</td>\n",
       "      <td>False</td>\n",
       "      <td>False</td>\n",
       "      <td>False</td>\n",
       "      <td>False</td>\n",
       "      <td>980728</td>\n",
       "      <td>bytes</td>\n",
       "      <td>31911</td>\n",
       "    </tr>\n",
       "    <tr>\n",
       "      <th>3</th>\n",
       "      <td>True</td>\n",
       "      <td>True</td>\n",
       "      <td>True</td>\n",
       "      <td>True</td>\n",
       "      <td>False</td>\n",
       "      <td>True</td>\n",
       "      <td>False</td>\n",
       "      <td>True</td>\n",
       "      <td>False</td>\n",
       "      <td>False</td>\n",
       "      <td>...</td>\n",
       "      <td>False</td>\n",
       "      <td>True</td>\n",
       "      <td>False</td>\n",
       "      <td>False</td>\n",
       "      <td>False</td>\n",
       "      <td>False</td>\n",
       "      <td>False</td>\n",
       "      <td>7491752</td>\n",
       "      <td>bytes</td>\n",
       "      <td>45860</td>\n",
       "    </tr>\n",
       "    <tr>\n",
       "      <th>4</th>\n",
       "      <td>False</td>\n",
       "      <td>True</td>\n",
       "      <td>True</td>\n",
       "      <td>True</td>\n",
       "      <td>False</td>\n",
       "      <td>False</td>\n",
       "      <td>False</td>\n",
       "      <td>True</td>\n",
       "      <td>True</td>\n",
       "      <td>True</td>\n",
       "      <td>...</td>\n",
       "      <td>False</td>\n",
       "      <td>True</td>\n",
       "      <td>False</td>\n",
       "      <td>False</td>\n",
       "      <td>False</td>\n",
       "      <td>False</td>\n",
       "      <td>False</td>\n",
       "      <td>3096112</td>\n",
       "      <td>bytes</td>\n",
       "      <td>106878</td>\n",
       "    </tr>\n",
       "  </tbody>\n",
       "</table>\n",
       "<p>5 rows × 34 columns</p>\n",
       "</div>"
      ],
      "text/plain": [
       "   --disable-avs  --disable-swscale  --disable-lavf  --disable-ffms  \\\n",
       "0           True               True            True            True   \n",
       "1           True              False           False           False   \n",
       "2          False               True            True            True   \n",
       "3           True               True            True            True   \n",
       "4          False               True            True            True   \n",
       "\n",
       "   --disable-gpac  --disable-lsmash  --enable-lto  --enable-debug  \\\n",
       "0            True              True          True           False   \n",
       "1           False              True         False           False   \n",
       "2           False              True         False           False   \n",
       "3           False              True         False            True   \n",
       "4           False             False         False            True   \n",
       "\n",
       "   --enable-gprof  --enable-strip  ...  --bit-depth=10  --bit-depth=all  \\\n",
       "0           False           False  ...            True            False   \n",
       "1            True            True  ...           False             True   \n",
       "2            True            True  ...           False            False   \n",
       "3           False           False  ...           False             True   \n",
       "4            True            True  ...           False             True   \n",
       "\n",
       "   --chroma-format=400  --chroma-format=420  --chroma-format=422  \\\n",
       "0                False                False                False   \n",
       "1                False                False                False   \n",
       "2                False                False                False   \n",
       "3                False                False                False   \n",
       "4                False                False                False   \n",
       "\n",
       "   --chroma-format=444  --chroma-format=all  binary-size   unit  nr-of-gadgets  \n",
       "0                False                False      3096112  bytes         106878  \n",
       "1                False                False      2194952  bytes          76255  \n",
       "2                False                False       980728  bytes          31911  \n",
       "3                False                False      7491752  bytes          45860  \n",
       "4                False                False      3096112  bytes         106878  \n",
       "\n",
       "[5 rows x 34 columns]"
      ]
     },
     "execution_count": 3,
     "metadata": {},
     "output_type": "execute_result"
    }
   ],
   "source": [
    "df_test = pd.read_csv('splc21-data - 32-configurations.csv')\n",
    "df_test.head()"
   ]
  },
  {
   "cell_type": "code",
   "execution_count": 4,
   "metadata": {},
   "outputs": [
    {
     "data": {
      "text/plain": [
       "<matplotlib.axes._subplots.AxesSubplot at 0x7fd9277e0910>"
      ]
     },
     "execution_count": 4,
     "metadata": {},
     "output_type": "execute_result"
    },
    {
     "data": {
      "image/png": "[encoded data removed]",
      "text/plain": [
       "<Figure size 432x288 with 1 Axes>"
      ]
     },
     "metadata": {
      "needs_background": "light"
     },
     "output_type": "display_data"
    }
   ],
   "source": [
    "df['binary-size'].plot(kind='box')"
   ]
  },
  {
   "cell_type": "code",
   "execution_count": 5,
   "metadata": {},
   "outputs": [
    {
     "data": {
      "text/plain": [
       "<matplotlib.axes._subplots.AxesSubplot at 0x7fd9601e5390>"
      ]
     },
     "execution_count": 5,
     "metadata": {},
     "output_type": "execute_result"
    },
    {
     "data": {
      "image/png": "[encoded data removed]",
      "text/plain": [
       "<Figure size 432x288 with 1 Axes>"
      ]
     },
     "metadata": {
      "needs_background": "light"
     },
     "output_type": "display_data"
    }
   ],
   "source": [
    "df['nr-of-gadgets'].plot(kind='box')"
   ]
  },
  {
   "cell_type": "code",
   "execution_count": 6,
   "metadata": {},
   "outputs": [
    {
     "data": {
      "text/plain": [
       "LinearRegression()"
      ]
     },
     "execution_count": 6,
     "metadata": {},
     "output_type": "execute_result"
    }
   ],
   "source": [
    "from sklearn import linear_model\n",
    "fts = ['--disable-avs', '--disable-swscale', '--disable-lavf',\n",
    "       '--disable-ffms', '--disable-gpac', '--disable-lsmash', '--enable-lto',\n",
    "       '--enable-debug', '--enable-gprof', '--enable-strip', '--enable-pic',\n",
    "       '--disable-asm', '--enable-shared', '--enable-static',\n",
    "       '--enable-bashcompletion', '--disable-cli', '--disable-bashcompletion',\n",
    "       '--disable-opencl', '--disable-gpl', '--disable-thread',\n",
    "       '--disable-win32thread', '--disable-interlaced', '--system-libx264',\n",
    "       '--bit-depth=8', '--bit-depth=10', '--bit-depth=all',\n",
    "       '--chroma-format=400', '--chroma-format=420', '--chroma-format=422',\n",
    "       '--chroma-format=444', '--chroma-format=all']\n",
    "regr = linear_model.LinearRegression()\n",
    "regr.fit(df[fts], df[TARGET])"
   ]
  },
  {
   "cell_type": "code",
   "execution_count": 7,
   "metadata": {},
   "outputs": [
    {
     "data": {
      "text/plain": [
       "LinearRegression()"
      ]
     },
     "execution_count": 7,
     "metadata": {},
     "output_type": "execute_result"
    }
   ],
   "source": [
    "regr"
   ]
  },
  {
   "cell_type": "code",
   "execution_count": 8,
   "metadata": {},
   "outputs": [
    {
     "data": {
      "text/plain": [
       "array([ 8.07330132e+02,  5.52439488e+03, -2.30931222e+03, -2.68104008e+03,\n",
       "        4.19415116e+02, -7.85841411e+03,  4.08625003e+03, -8.65953404e+02,\n",
       "       -2.15497754e+01, -3.20080219e+03,  7.18129339e+02, -8.41360693e+03,\n",
       "        1.09139364e-11, -3.63797881e-12,  2.47247093e+03,  3.63797881e-12,\n",
       "        2.09149891e+03, -1.60935660e+03, -1.92828996e+03,  3.21960571e+03,\n",
       "       -2.20198106e+03, -1.49243827e+03,  5.12840056e+04, -1.59817639e+04,\n",
       "       -1.76351951e+04, -3.84445074e+03, -3.85168183e+03, -3.65349474e+03,\n",
       "       -3.96837909e+03, -5.43255459e+03, -2.76101904e+02])"
      ]
     },
     "execution_count": 8,
     "metadata": {},
     "output_type": "execute_result"
    }
   ],
   "source": [
    "regr.coef_"
   ]
  },
  {
   "cell_type": "code",
   "execution_count": 9,
   "metadata": {},
   "outputs": [],
   "source": [
    "y_pred = regr.predict(df_test[fts])"
   ]
  },
  {
   "cell_type": "code",
   "execution_count": 10,
   "metadata": {},
   "outputs": [
    {
     "name": "stdout",
     "output_type": "stream",
     "text": [
      "Coefficients: \n",
      " [ 8.07330132e+02  5.52439488e+03 -2.30931222e+03 -2.68104008e+03\n",
      "  4.19415116e+02 -7.85841411e+03  4.08625003e+03 -8.65953404e+02\n",
      " -2.15497754e+01 -3.20080219e+03  7.18129339e+02 -8.41360693e+03\n",
      "  1.09139364e-11 -3.63797881e-12  2.47247093e+03  3.63797881e-12\n",
      "  2.09149891e+03 -1.60935660e+03 -1.92828996e+03  3.21960571e+03\n",
      " -2.20198106e+03 -1.49243827e+03  5.12840056e+04 -1.59817639e+04\n",
      " -1.76351951e+04 -3.84445074e+03 -3.85168183e+03 -3.65349474e+03\n",
      " -3.96837909e+03 -5.43255459e+03 -2.76101904e+02]\n",
      "Mean squared error: 97263055.15\n",
      "Coefficient of determination: 0.90\n"
     ]
    },
    {
     "data": {
      "image/png": "[encoded data removed]",
      "text/plain": [
       "<Figure size 432x288 with 1 Axes>"
      ]
     },
     "metadata": {},
     "output_type": "display_data"
    }
   ],
   "source": [
    "# The coefficients\n",
    "from sklearn.metrics import mean_squared_error, r2_score\n",
    "import matplotlib.pyplot as plt\n",
    "import numpy as np\n",
    "\n",
    "y_test = df_test[TARGET]\n",
    "print('Coefficients: \\n', regr.coef_)\n",
    "# The mean squared error\n",
    "print('Mean squared error: %.2f'\n",
    "      % mean_squared_error(y_test, y_pred))\n",
    "# The coefficient of determination: 1 is perfect prediction\n",
    "print('Coefficient of determination: %.2f'\n",
    "      % r2_score(y_test, y_pred))\n",
    "\n",
    "# Plot outputs\n",
    "plt.scatter(df_test[fts].index, y_test,  color='black')\n",
    "plt.plot(df_test[fts].index, y_pred, color='blue', linewidth=3)\n",
    "\n",
    "plt.xticks(())\n",
    "plt.yticks(())\n",
    "\n",
    "plt.show()"
   ]
  },
  {
   "cell_type": "code",
   "execution_count": 11,
   "metadata": {},
   "outputs": [],
   "source": [
    "from sklearn import tree\n",
    "from sklearn.ensemble import RandomForestRegressor\n",
    "\n",
    "decision_tree = True\n",
    "\n",
    "if decision_tree:\n",
    "    clf = tree.DecisionTreeRegressor()\n",
    "else:\n",
    "    clf = RandomForestRegressor() # tree.DecisionTreeRegressor()\n",
    "clf = clf.fit(df[fts], df[TARGET])"
   ]
  },
  {
   "cell_type": "code",
   "execution_count": 12,
   "metadata": {},
   "outputs": [],
   "source": [
    "clf_pred = clf.predict(df_test[fts])"
   ]
  },
  {
   "cell_type": "code",
   "execution_count": 13,
   "metadata": {},
   "outputs": [],
   "source": [
    "import graphviz \n",
    "\n",
    "if decision_tree:\n",
    "    dot_data = tree.export_graphviz(clf, out_file=None) \n",
    "    graph = graphviz.Source(dot_data) \n",
    "    graph.render(\"iris\") \n"
   ]
  },
  {
   "cell_type": "code",
   "execution_count": 14,
   "metadata": {},
   "outputs": [
    {
     "name": "stdout",
     "output_type": "stream",
     "text": [
      "Mean squared error: 96370853.94\n"
     ]
    }
   ],
   "source": [
    "print('Mean squared error: %.2f'\n",
    "      % mean_squared_error(y_test, clf_pred))"
   ]
  },
  {
   "cell_type": "code",
   "execution_count": 15,
   "metadata": {},
   "outputs": [
    {
     "data": {
      "image/png": "[encoded data removed]",
      "text/plain": [
       "<Figure size 432x288 with 1 Axes>"
      ]
     },
     "metadata": {},
     "output_type": "display_data"
    }
   ],
   "source": [
    "# Plot outputs\n",
    "plt.scatter(df_test[fts].index, y_test,  color='black')\n",
    "plt.plot(df_test[fts].index, clf_pred, color='blue', linewidth=3)\n",
    "\n",
    "plt.xticks(())\n",
    "plt.yticks(())\n",
    "\n",
    "plt.show()"
   ]
  },
  {
   "cell_type": "code",
   "execution_count": 16,
   "metadata": {},
   "outputs": [
    {
     "data": {
      "text/plain": [
       "0.06590578355194746"
      ]
     },
     "execution_count": 16,
     "metadata": {},
     "output_type": "execute_result"
    }
   ],
   "source": [
    "def mean_absolute_percentage_error(y_pred, y_true):\n",
    "    return np.average(np.abs(y_pred - y_true) / np.abs(y_true))\n",
    "    \n",
    "mean_absolute_percentage_error(clf_pred, y_test)"
   ]
  },
  {
   "cell_type": "code",
   "execution_count": 17,
   "metadata": {},
   "outputs": [
    {
     "data": {
      "text/plain": [
       "0.14016686239601073"
      ]
     },
     "execution_count": 17,
     "metadata": {},
     "output_type": "execute_result"
    }
   ],
   "source": [
    "mean_absolute_percentage_error(y_pred, y_test)"
   ]
  },
  {
   "cell_type": "code",
   "execution_count": 18,
   "metadata": {},
   "outputs": [
    {
     "name": "stdout",
     "output_type": "stream",
     "text": [
      "Feature: 0, --disable-avs, Score: 0.00057\n",
      "Feature: 1, --disable-swscale, Score: 0.00003\n",
      "Feature: 2, --disable-lavf, Score: 0.00000\n",
      "Feature: 3, --disable-ffms, Score: 0.00046\n",
      "Feature: 4, --disable-gpac, Score: 0.00034\n",
      "Feature: 5, --disable-lsmash, Score: 0.05059\n",
      "Feature: 6, --enable-lto, Score: 0.00018\n",
      "Feature: 7, --enable-debug, Score: 0.00745\n",
      "Feature: 8, --enable-gprof, Score: 0.00010\n",
      "Feature: 9, --enable-strip, Score: 0.00003\n",
      "Feature: 10, --enable-pic, Score: 0.00198\n",
      "Feature: 11, --disable-asm, Score: 0.02685\n",
      "Feature: 12, --enable-shared, Score: 0.00000\n",
      "Feature: 13, --enable-static, Score: 0.00000\n",
      "Feature: 14, --enable-bashcompletion, Score: 0.00341\n",
      "Feature: 15, --disable-cli, Score: 0.00000\n",
      "Feature: 16, --disable-bashcompletion, Score: 0.00287\n",
      "Feature: 17, --disable-opencl, Score: 0.00014\n",
      "Feature: 18, --disable-gpl, Score: 0.00036\n",
      "Feature: 19, --disable-thread, Score: 0.00000\n",
      "Feature: 20, --disable-win32thread, Score: 0.00053\n",
      "Feature: 21, --disable-interlaced, Score: 0.00002\n",
      "Feature: 22, --system-libx264, Score: 0.79012\n",
      "Feature: 23, --bit-depth=8, Score: 0.01861\n",
      "Feature: 24, --bit-depth=10, Score: 0.01278\n",
      "Feature: 25, --bit-depth=all, Score: 0.07855\n",
      "Feature: 26, --chroma-format=400, Score: 0.00019\n",
      "Feature: 27, --chroma-format=420, Score: 0.00198\n",
      "Feature: 28, --chroma-format=422, Score: 0.00000\n",
      "Feature: 29, --chroma-format=444, Score: 0.00045\n",
      "Feature: 30, --chroma-format=all, Score: 0.00142\n"
     ]
    },
    {
     "data": {
      "image/png": "[encoded data removed]",
      "text/plain": [
       "<Figure size 432x288 with 1 Axes>"
      ]
     },
     "metadata": {
      "needs_background": "light"
     },
     "output_type": "display_data"
    }
   ],
   "source": [
    "importance = clf.feature_importances_\n",
    "for i, v in enumerate(importance):\n",
    "    print('Feature: %d, %s, Score: %.5f' % (i, df.columns[i], v))\n",
    "plt.bar([x for x in range(len(importance))], importance)\n",
    "plt.show()"
   ]
  },
  {
   "cell_type": "code",
   "execution_count": null,
   "metadata": {},
   "outputs": [],
   "source": []
  }
 ],
 "metadata": {
  "kernelspec": {
   "display_name": "Python 3",
   "language": "python",
   "name": "python3"
  },
  "language_info": {
   "codemirror_mode": {
    "name": "ipython",
    "version": 3
   },
   "file_extension": ".py",
   "mimetype": "text/x-python",
   "name": "python",
   "nbconvert_exporter": "python",
   "pygments_lexer": "ipython3",
   "version": "3.7.6"
  }
 },
 "nbformat": 4,
 "nbformat_minor": 2
}
